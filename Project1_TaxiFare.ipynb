{
 "cells": [
  {
   "cell_type": "code",
   "execution_count": null,
   "id": "cf2dedcc",
   "metadata": {},
   "outputs": [],
   "source": [
    "import numpy as np\n",
    "import pandas as pd \n",
    "import seaborn as sns\n",
    "import matplotlib.pyplot as plt\n",
    "%matplotlib inline\n",
    "from sklearn.model_selection import train_test_split\n",
    "from sklearn.linear_model import LogisticRegression\n",
    "pd.set_option('display.max_columns',None)\n",
    "pd.set_option('display.max_rows',None)\n",
    "import warnings\n",
    "warnings.filterwarnings('ignore')\n",
    "from sklearn.tree import DecisionTreeRegressor\n",
    "from sklearn.ensemble import BaggingRegressor\n",
    "from sklearn.ensemble import AdaBoostRegressor\n",
    "from sklearn.ensemble import GradientBoostingRegressor\n",
    "from sklearn.ensemble import RandomForestRegressor\n",
    "from sklearn.svm import SVC"
   ]
  },
  {
   "cell_type": "code",
   "execution_count": null,
   "id": "bb679698",
   "metadata": {},
   "outputs": [],
   "source": [
    "df= pd.read_csv(\"TaxiFare.csv\")"
   ]
  },
  {
   "cell_type": "code",
   "execution_count": null,
   "id": "cc798c05",
   "metadata": {},
   "outputs": [],
   "source": [
    "df.head()"
   ]
  },
  {
   "cell_type": "code",
   "execution_count": null,
   "id": "863581be",
   "metadata": {},
   "outputs": [],
   "source": [
    "df.shape"
   ]
  },
  {
   "cell_type": "code",
   "execution_count": null,
   "id": "c56990a9",
   "metadata": {},
   "outputs": [],
   "source": [
    "df.dtypes"
   ]
  },
  {
   "cell_type": "code",
   "execution_count": null,
   "id": "5620c8e8",
   "metadata": {},
   "outputs": [],
   "source": [
    "df.info()"
   ]
  },
  {
   "cell_type": "code",
   "execution_count": null,
   "id": "82fa289c",
   "metadata": {},
   "outputs": [],
   "source": [
    "df.isnull().sum()"
   ]
  },
  {
   "cell_type": "code",
   "execution_count": null,
   "id": "d5f117fe",
   "metadata": {},
   "outputs": [],
   "source": [
    "df.describe()"
   ]
  },
  {
   "cell_type": "code",
   "execution_count": null,
   "id": "1681e9cd",
   "metadata": {},
   "outputs": [],
   "source": [
    "df.describe(include='all').T"
   ]
  },
  {
   "cell_type": "code",
   "execution_count": null,
   "id": "0048bf37",
   "metadata": {},
   "outputs": [],
   "source": [
    "corr=df.corr()"
   ]
  },
  {
   "cell_type": "code",
   "execution_count": null,
   "id": "ee0a62a1",
   "metadata": {},
   "outputs": [],
   "source": [
    "corr"
   ]
  },
  {
   "cell_type": "code",
   "execution_count": null,
   "id": "ff5a4999",
   "metadata": {},
   "outputs": [],
   "source": [
    "df.hist(figsize=(20,20))"
   ]
  },
  {
   "cell_type": "code",
   "execution_count": null,
   "id": "9c9ad897",
   "metadata": {},
   "outputs": [],
   "source": [
    "sns.countplot(x='longitude_of_pickup',hue='amount',data=df)"
   ]
  },
  {
   "cell_type": "code",
   "execution_count": null,
   "id": "001b1806",
   "metadata": {},
   "outputs": [],
   "source": [
    "sns.countplot(x='latitude_of_pickup',hue='amount',data=df)"
   ]
  },
  {
   "cell_type": "code",
   "execution_count": null,
   "id": "c201f7ce",
   "metadata": {},
   "outputs": [],
   "source": [
    "sns.countplot(x='longitude_of_dropoff',hue='amount',data=df)"
   ]
  },
  {
   "cell_type": "code",
   "execution_count": null,
   "id": "8195dee0",
   "metadata": {},
   "outputs": [],
   "source": [
    "sns.countplot(x='latitude_of_dropoff',hue='amount',data=df)"
   ]
  },
  {
   "cell_type": "code",
   "execution_count": null,
   "id": "9a068b42",
   "metadata": {},
   "outputs": [],
   "source": []
  },
  {
   "cell_type": "code",
   "execution_count": null,
   "id": "4995b500",
   "metadata": {},
   "outputs": [],
   "source": []
  },
  {
   "cell_type": "code",
   "execution_count": null,
   "id": "577608b1",
   "metadata": {},
   "outputs": [],
   "source": [
    "y=df['amount']\n",
    "x=df.drop(['amount'],axis=1)"
   ]
  },
  {
   "cell_type": "code",
   "execution_count": null,
   "id": "0a981de3",
   "metadata": {},
   "outputs": [],
   "source": [
    "### split into train ana test\n",
    "x_train,x_test,y_train,y_test=train_test_split(x,y,test_size=0.3,random_state=1)"
   ]
  },
  {
   "cell_type": "markdown",
   "id": "92f79486",
   "metadata": {},
   "source": [
    "### Regrassor Models"
   ]
  },
  {
   "cell_type": "code",
   "execution_count": null,
   "id": "25a19c12",
   "metadata": {},
   "outputs": [],
   "source": [
    "model3=DecisionTreeRegressor(max_depth=1)\n",
    "\n",
    "model3.fit(x_train,y_train)\n",
    "\n",
    "model3.score(x_train,y_train)\n",
    "\n",
    "model3.score(x_test,y_test)\n",
    "\n",
    "model4=BaggingRegressor(max_samples=0.5,max_features=0.5)\n",
    "\n",
    "model4.fit(x_train,y_train)\n",
    "\n",
    "model4.score(x_train,y_train)\n",
    "\n",
    "model4.score(x_test,y_test)\n",
    "\n",
    "model5=AdaBoostRegressor()\n",
    "\n",
    "model5.fit(x_train,y_train)\n",
    "\n",
    "model5.score(x_train,y_train)\n",
    "\n",
    "model5.score(x_train,y_train)\n",
    "\n",
    "model5.score(x_test,y_test)\n",
    "\n",
    "model6=GradientBoostingRegressor()\n",
    "\n",
    "model6.fit(x_train,y_train)\n",
    "\n",
    "model6.score(x_train,y_train)\n",
    "\n",
    "model6.score(x_test,y_test)\n",
    "\n",
    "model7=RandomForestRegressor()\n",
    "\n",
    "model7.fit(x_train,y_train)\n",
    "\n",
    "model7.score(x_train,y_train)\n",
    "\n",
    "model7.score(x_test,y_test)\n",
    "\n",
    "model8=SVC()\n",
    "\n",
    "model8.fit(x_train,y_train)\n",
    "\n",
    "model8.score(x_train,y_train)\n",
    "\n",
    "model8.score(x_test,y_test)"
   ]
  }
 ],
 "metadata": {
  "kernelspec": {
   "display_name": "Python 3 (ipykernel)",
   "language": "python",
   "name": "python3"
  },
  "language_info": {
   "codemirror_mode": {
    "name": "ipython",
    "version": 3
   },
   "file_extension": ".py",
   "mimetype": "text/x-python",
   "name": "python",
   "nbconvert_exporter": "python",
   "pygments_lexer": "ipython3",
   "version": "3.10.9"
  }
 },
 "nbformat": 4,
 "nbformat_minor": 5
}
